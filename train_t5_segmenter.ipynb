{
 "cells": [
  {
   "cell_type": "code",
   "execution_count": 1,
   "metadata": {
    "collapsed": true,
    "ExecuteTime": {
     "start_time": "2023-05-07T15:58:22.532681Z",
     "end_time": "2023-05-07T15:58:24.965385Z"
    }
   },
   "outputs": [
    {
     "name": "stderr",
     "output_type": "stream",
     "text": [
      "Global seed set to 42\n"
     ]
    }
   ],
   "source": [
    "import pandas as pd\n",
    "from simplet5 import SimpleT5"
   ]
  },
  {
   "cell_type": "code",
   "execution_count": 2,
   "outputs": [
    {
     "data": {
      "text/plain": "                                            source_text      target_text\n0     classify soap: HISTORY OF PRESENT ILLNESS:   T...       subjective\n1     classify soap: The patient is a 68-year-old fe...       subjective\n2     classify soap: Liver function tests:\\n- ALT: 8...        objective\n3          classify soap: Begin enoxaparin prophylaxis.  assessment_plan\n4     classify soap: No stomachache, vomiting or dia...  assessment_plan\n...                                                 ...              ...\n3950  classify soap: He also admitted to have dark a...        objective\n3951  classify soap: #Pancreatitis - Patient present...  assessment_plan\n3952  classify soap: ECG: sinus rhythm, rate 78bpm, ...        objective\n3953  classify soap: GENERAL: The patient was sleepy...        objective\n3954  classify soap: CBC\\nWhite Blood Cells 6300\\nPl...        objective\n\n[3954 rows x 2 columns]",
      "text/html": "<div>\n<style scoped>\n    .dataframe tbody tr th:only-of-type {\n        vertical-align: middle;\n    }\n\n    .dataframe tbody tr th {\n        vertical-align: top;\n    }\n\n    .dataframe thead th {\n        text-align: right;\n    }\n</style>\n<table border=\"1\" class=\"dataframe\">\n  <thead>\n    <tr style=\"text-align: right;\">\n      <th></th>\n      <th>source_text</th>\n      <th>target_text</th>\n    </tr>\n  </thead>\n  <tbody>\n    <tr>\n      <th>0</th>\n      <td>classify soap: HISTORY OF PRESENT ILLNESS:   T...</td>\n      <td>subjective</td>\n    </tr>\n    <tr>\n      <th>1</th>\n      <td>classify soap: The patient is a 68-year-old fe...</td>\n      <td>subjective</td>\n    </tr>\n    <tr>\n      <th>2</th>\n      <td>classify soap: Liver function tests:\\n- ALT: 8...</td>\n      <td>objective</td>\n    </tr>\n    <tr>\n      <th>3</th>\n      <td>classify soap: Begin enoxaparin prophylaxis.</td>\n      <td>assessment_plan</td>\n    </tr>\n    <tr>\n      <th>4</th>\n      <td>classify soap: No stomachache, vomiting or dia...</td>\n      <td>assessment_plan</td>\n    </tr>\n    <tr>\n      <th>...</th>\n      <td>...</td>\n      <td>...</td>\n    </tr>\n    <tr>\n      <th>3950</th>\n      <td>classify soap: He also admitted to have dark a...</td>\n      <td>objective</td>\n    </tr>\n    <tr>\n      <th>3951</th>\n      <td>classify soap: #Pancreatitis - Patient present...</td>\n      <td>assessment_plan</td>\n    </tr>\n    <tr>\n      <th>3952</th>\n      <td>classify soap: ECG: sinus rhythm, rate 78bpm, ...</td>\n      <td>objective</td>\n    </tr>\n    <tr>\n      <th>3953</th>\n      <td>classify soap: GENERAL: The patient was sleepy...</td>\n      <td>objective</td>\n    </tr>\n    <tr>\n      <th>3954</th>\n      <td>classify soap: CBC\\nWhite Blood Cells 6300\\nPl...</td>\n      <td>objective</td>\n    </tr>\n  </tbody>\n</table>\n<p>3954 rows × 2 columns</p>\n</div>"
     },
     "execution_count": 2,
     "metadata": {},
     "output_type": "execute_result"
    }
   ],
   "source": [
    "train_df = pd.read_csv('01train_set.csv', delimiter='|')\n",
    "train_df['source_text'] = 'classify soap: ' + train_df['source_text']\n",
    "train_df.dropna(inplace=True)\n",
    "train_df"
   ],
   "metadata": {
    "collapsed": false,
    "ExecuteTime": {
     "start_time": "2023-05-07T15:58:24.967153Z",
     "end_time": "2023-05-07T15:58:24.989483Z"
    }
   }
  },
  {
   "cell_type": "code",
   "execution_count": 3,
   "outputs": [
    {
     "data": {
      "text/plain": "                                           source_text      target_text\n0    classify soap: HE DENIES SHRIMP, SEA FOOD OR D...        objective\n1    classify soap: Weight was 132.6 about a week a...        objective\n2    classify soap: B12 deficiency.5. Osteoporosis....  assessment_plan\n3    classify soap: The patient has a normal blood ...        objective\n4    classify soap: The patient was prescribed amox...  assessment_plan\n..                                                 ...              ...\n208  classify soap: Bowel sounds present. Nontender...        objective\n209  classify soap: Patient admits past surgical hi...       subjective\n210  classify soap: Testes are bilaterally descende...        objective\n211  classify soap: I told the patient he could use...  assessment_plan\n212  classify soap: HEENT: A short thick neck, low-...        objective\n\n[213 rows x 2 columns]",
      "text/html": "<div>\n<style scoped>\n    .dataframe tbody tr th:only-of-type {\n        vertical-align: middle;\n    }\n\n    .dataframe tbody tr th {\n        vertical-align: top;\n    }\n\n    .dataframe thead th {\n        text-align: right;\n    }\n</style>\n<table border=\"1\" class=\"dataframe\">\n  <thead>\n    <tr style=\"text-align: right;\">\n      <th></th>\n      <th>source_text</th>\n      <th>target_text</th>\n    </tr>\n  </thead>\n  <tbody>\n    <tr>\n      <th>0</th>\n      <td>classify soap: HE DENIES SHRIMP, SEA FOOD OR D...</td>\n      <td>objective</td>\n    </tr>\n    <tr>\n      <th>1</th>\n      <td>classify soap: Weight was 132.6 about a week a...</td>\n      <td>objective</td>\n    </tr>\n    <tr>\n      <th>2</th>\n      <td>classify soap: B12 deficiency.5. Osteoporosis....</td>\n      <td>assessment_plan</td>\n    </tr>\n    <tr>\n      <th>3</th>\n      <td>classify soap: The patient has a normal blood ...</td>\n      <td>objective</td>\n    </tr>\n    <tr>\n      <th>4</th>\n      <td>classify soap: The patient was prescribed amox...</td>\n      <td>assessment_plan</td>\n    </tr>\n    <tr>\n      <th>...</th>\n      <td>...</td>\n      <td>...</td>\n    </tr>\n    <tr>\n      <th>208</th>\n      <td>classify soap: Bowel sounds present. Nontender...</td>\n      <td>objective</td>\n    </tr>\n    <tr>\n      <th>209</th>\n      <td>classify soap: Patient admits past surgical hi...</td>\n      <td>subjective</td>\n    </tr>\n    <tr>\n      <th>210</th>\n      <td>classify soap: Testes are bilaterally descende...</td>\n      <td>objective</td>\n    </tr>\n    <tr>\n      <th>211</th>\n      <td>classify soap: I told the patient he could use...</td>\n      <td>assessment_plan</td>\n    </tr>\n    <tr>\n      <th>212</th>\n      <td>classify soap: HEENT: A short thick neck, low-...</td>\n      <td>objective</td>\n    </tr>\n  </tbody>\n</table>\n<p>213 rows × 2 columns</p>\n</div>"
     },
     "execution_count": 3,
     "metadata": {},
     "output_type": "execute_result"
    }
   ],
   "source": [
    "val_df = pd.read_csv('02val_set.csv', delimiter='|')\n",
    "val_df['source_text'] = 'classify soap: ' + val_df['source_text']\n",
    "val_df.dropna(inplace=True)\n",
    "val_df"
   ],
   "metadata": {
    "collapsed": false,
    "ExecuteTime": {
     "start_time": "2023-05-07T15:58:24.985261Z",
     "end_time": "2023-05-07T15:58:25.020688Z"
    }
   }
  },
  {
   "cell_type": "code",
   "execution_count": 19,
   "outputs": [
    {
     "data": {
      "text/plain": "'model = SimpleT5()\\nmodel.from_pretrained(model_type=\"t5\", model_name=\"razent/SciFive-large-Pubmed_PMC-MedNLI\")\\nmodel.train(train_df=train_df,\\n            eval_df=val_df,\\n            batch_size=1,\\n            max_epochs=20,\\n            use_gpu=True,\\n            dataloader_num_workers=2\\n           )'"
     },
     "execution_count": 19,
     "metadata": {},
     "output_type": "execute_result"
    }
   ],
   "source": [
    "\"\"\"model = SimpleT5()\n",
    "model.from_pretrained(model_type=\"t5\", model_name=\"razent/SciFive-large-Pubmed_PMC-MedNLI\")\n",
    "model.train(train_df=train_df,\n",
    "            eval_df=val_df,\n",
    "            batch_size=1,\n",
    "            max_epochs=20,\n",
    "            use_gpu=True,\n",
    "            dataloader_num_workers=2\n",
    "           )\"\"\""
   ],
   "metadata": {
    "collapsed": false,
    "ExecuteTime": {
     "start_time": "2023-05-07T16:08:48.861429Z",
     "end_time": "2023-05-07T16:08:48.866092Z"
    }
   }
  },
  {
   "cell_type": "code",
   "execution_count": 4,
   "outputs": [
    {
     "data": {
      "text/plain": "                                          source_text      target_text\n0   classify soap: Another option will be to use l...  assessment_plan\n1   classify soap: She denies diarrhea. She does c...       subjective\n2   classify soap: No drug allergies. SOCIAL:  Onl...       subjective\n3   classify soap: Patient is a 26 year old male w...       subjective\n4   classify soap: IMPRESSION:,1. Pulmonary disord...  assessment_plan\n..                                                ...              ...\n80  classify soap: Testing of cranial nerves revea...       subjective\n81  classify soap: Reports she has been not social...       subjective\n82  classify soap: PHYSICAL EXAMINATION: He is ale...        objective\n83  classify soap: CHIEF COMPLAINT:   \"\"A lot has ...       subjective\n84  classify soap: Significant for depression and ...       subjective\n\n[85 rows x 2 columns]",
      "text/html": "<div>\n<style scoped>\n    .dataframe tbody tr th:only-of-type {\n        vertical-align: middle;\n    }\n\n    .dataframe tbody tr th {\n        vertical-align: top;\n    }\n\n    .dataframe thead th {\n        text-align: right;\n    }\n</style>\n<table border=\"1\" class=\"dataframe\">\n  <thead>\n    <tr style=\"text-align: right;\">\n      <th></th>\n      <th>source_text</th>\n      <th>target_text</th>\n    </tr>\n  </thead>\n  <tbody>\n    <tr>\n      <th>0</th>\n      <td>classify soap: Another option will be to use l...</td>\n      <td>assessment_plan</td>\n    </tr>\n    <tr>\n      <th>1</th>\n      <td>classify soap: She denies diarrhea. She does c...</td>\n      <td>subjective</td>\n    </tr>\n    <tr>\n      <th>2</th>\n      <td>classify soap: No drug allergies. SOCIAL:  Onl...</td>\n      <td>subjective</td>\n    </tr>\n    <tr>\n      <th>3</th>\n      <td>classify soap: Patient is a 26 year old male w...</td>\n      <td>subjective</td>\n    </tr>\n    <tr>\n      <th>4</th>\n      <td>classify soap: IMPRESSION:,1. Pulmonary disord...</td>\n      <td>assessment_plan</td>\n    </tr>\n    <tr>\n      <th>...</th>\n      <td>...</td>\n      <td>...</td>\n    </tr>\n    <tr>\n      <th>80</th>\n      <td>classify soap: Testing of cranial nerves revea...</td>\n      <td>subjective</td>\n    </tr>\n    <tr>\n      <th>81</th>\n      <td>classify soap: Reports she has been not social...</td>\n      <td>subjective</td>\n    </tr>\n    <tr>\n      <th>82</th>\n      <td>classify soap: PHYSICAL EXAMINATION: He is ale...</td>\n      <td>objective</td>\n    </tr>\n    <tr>\n      <th>83</th>\n      <td>classify soap: CHIEF COMPLAINT:   \"\"A lot has ...</td>\n      <td>subjective</td>\n    </tr>\n    <tr>\n      <th>84</th>\n      <td>classify soap: Significant for depression and ...</td>\n      <td>subjective</td>\n    </tr>\n  </tbody>\n</table>\n<p>85 rows × 2 columns</p>\n</div>"
     },
     "execution_count": 4,
     "metadata": {},
     "output_type": "execute_result"
    }
   ],
   "source": [
    "test_df = pd.read_csv('03test_set.csv', delimiter='|')\n",
    "test_df['source_text'] = 'classify soap: ' + test_df['source_text']\n",
    "test_df"
   ],
   "metadata": {
    "collapsed": false,
    "ExecuteTime": {
     "start_time": "2023-05-07T15:58:24.992532Z",
     "end_time": "2023-05-07T15:58:25.132687Z"
    }
   }
  },
  {
   "cell_type": "code",
   "execution_count": 7,
   "outputs": [],
   "source": [
    "model = SimpleT5()\n",
    "model.load_model(\"t5\",\"outputs/simplet5-epoch-6-train-loss-0.0069-val-loss-0.0122\")\n"
   ],
   "metadata": {
    "collapsed": false,
    "ExecuteTime": {
     "start_time": "2023-05-07T15:59:02.610770Z",
     "end_time": "2023-05-07T15:59:07.902389Z"
    }
   }
  },
  {
   "cell_type": "code",
   "execution_count": 8,
   "outputs": [
    {
     "data": {
      "text/plain": "['assessment_plan']"
     },
     "execution_count": 8,
     "metadata": {},
     "output_type": "execute_result"
    }
   ],
   "source": [
    "model.predict('classify soap: The patient was given a prescription for 10 mg of lisinopril daily.')"
   ],
   "metadata": {
    "collapsed": false,
    "ExecuteTime": {
     "start_time": "2023-05-07T15:59:08.144021Z",
     "end_time": "2023-05-07T15:59:08.564824Z"
    }
   }
  },
  {
   "cell_type": "code",
   "execution_count": 23,
   "outputs": [],
   "source": [
    "predictions = []\n",
    "gold_labels = []\n",
    "for i in test_df.iterrows():\n",
    "    pred = model.predict(i[1]['source_text'])[0].strip()\n",
    "    gold = i[1]['target_text'].strip()\n",
    "\n",
    "    predictions.append(pred)\n",
    "    gold_labels.append(gold)"
   ],
   "metadata": {
    "collapsed": false,
    "ExecuteTime": {
     "start_time": "2023-05-07T16:11:58.276621Z",
     "end_time": "2023-05-07T16:12:23.982407Z"
    }
   }
  },
  {
   "cell_type": "code",
   "execution_count": 24,
   "outputs": [
    {
     "data": {
      "text/plain": "                 subjective  objective  assessment_plan\nsubjective               17          0                0\nobjective                 0         33                0\nassessment_plan           0          0               35",
      "text/html": "<div>\n<style scoped>\n    .dataframe tbody tr th:only-of-type {\n        vertical-align: middle;\n    }\n\n    .dataframe tbody tr th {\n        vertical-align: top;\n    }\n\n    .dataframe thead th {\n        text-align: right;\n    }\n</style>\n<table border=\"1\" class=\"dataframe\">\n  <thead>\n    <tr style=\"text-align: right;\">\n      <th></th>\n      <th>subjective</th>\n      <th>objective</th>\n      <th>assessment_plan</th>\n    </tr>\n  </thead>\n  <tbody>\n    <tr>\n      <th>subjective</th>\n      <td>17</td>\n      <td>0</td>\n      <td>0</td>\n    </tr>\n    <tr>\n      <th>objective</th>\n      <td>0</td>\n      <td>33</td>\n      <td>0</td>\n    </tr>\n    <tr>\n      <th>assessment_plan</th>\n      <td>0</td>\n      <td>0</td>\n      <td>35</td>\n    </tr>\n  </tbody>\n</table>\n</div>"
     },
     "execution_count": 24,
     "metadata": {},
     "output_type": "execute_result"
    }
   ],
   "source": [
    "from sklearn.metrics import confusion_matrix\n",
    "cm = confusion_matrix(gold_labels, predictions)\n",
    "cm_df = pd.DataFrame(cm,\n",
    "                     index = ['subjective','objective','assessment_plan'],\n",
    "                     columns = ['subjective','objective','assessment_plan'])\n",
    "\n",
    "cm_df"
   ],
   "metadata": {
    "collapsed": false,
    "ExecuteTime": {
     "start_time": "2023-05-07T16:15:33.882089Z",
     "end_time": "2023-05-07T16:15:34.173445Z"
    }
   }
  },
  {
   "cell_type": "code",
   "execution_count": 26,
   "outputs": [
    {
     "data": {
      "text/plain": "<Figure size 500x400 with 2 Axes>",
      "image/png": "[encoded data removed]"
     },
     "metadata": {},
     "output_type": "display_data"
    }
   ],
   "source": [
    "import seaborn as sns\n",
    "import matplotlib.pyplot as plt\n",
    "\n",
    "plt.figure(figsize=(5,4))\n",
    "sns.heatmap(cm_df, annot=True)\n",
    "plt.title('Confusion Matrix')\n",
    "plt.ylabel('Actal Values')\n",
    "plt.xlabel('Predicted Values')\n",
    "plt.show()"
   ],
   "metadata": {
    "collapsed": false,
    "ExecuteTime": {
     "start_time": "2023-05-07T16:16:41.909580Z",
     "end_time": "2023-05-07T16:16:42.245157Z"
    }
   }
  },
  {
   "cell_type": "code",
   "execution_count": 10,
   "outputs": [
    {
     "data": {
      "text/plain": "['subjective']"
     },
     "execution_count": 10,
     "metadata": {},
     "output_type": "execute_result"
    }
   ],
   "source": [
    "model.predict(\"classify soap: Jill denied any suicidal ideation in the past week. She reported that she still feels sad most of the time. She got an “F” on another math test this week.\")"
   ],
   "metadata": {
    "collapsed": false,
    "ExecuteTime": {
     "start_time": "2023-05-07T15:59:35.340999Z",
     "end_time": "2023-05-07T15:59:35.672833Z"
    }
   }
  },
  {
   "cell_type": "code",
   "execution_count": 11,
   "outputs": [
    {
     "data": {
      "text/plain": "['assessment_plan']"
     },
     "execution_count": 11,
     "metadata": {},
     "output_type": "execute_result"
    }
   ],
   "source": [
    "model.predict(\"classify soap: While client’s endorsed symptoms and presentation are in keeping with depression, but are part of a sudden change prompted by an argument and reduction in sleep, it is likely that client’s emotional reaction to the argument with his partner and subsequent poor sleep hygiene are responsible for this sudden shift in mood and appearance. Client does not appear to be at risk of suicide at this time, discussing the importance of being available for his younger brother and pet dog, and is agreeable to following the steps outlined in his safety plan if symptoms increase or ideation occurs. However, the client is at risk for worsening depression if he is unable to prevent further decompensation. \")"
   ],
   "metadata": {
    "collapsed": false,
    "ExecuteTime": {
     "start_time": "2023-05-07T15:59:35.640054Z",
     "end_time": "2023-05-07T15:59:36.036312Z"
    }
   }
  },
  {
   "cell_type": "code",
   "execution_count": 12,
   "outputs": [
    {
     "data": {
      "text/plain": "['assessment_plan']"
     },
     "execution_count": 12,
     "metadata": {},
     "output_type": "execute_result"
    }
   ],
   "source": [
    "model.predict(\"classify soap: Client has committed to resuming a sleep schedule, beginning tonight, and agreed to turn off his smartphone an hour before the established 11PM bedtime. Client will monitor his symptoms, and reach out to this writer if symptoms increase\")"
   ],
   "metadata": {
    "collapsed": false,
    "ExecuteTime": {
     "start_time": "2023-05-07T15:59:36.035808Z",
     "end_time": "2023-05-07T15:59:36.405510Z"
    }
   }
  },
  {
   "cell_type": "code",
   "execution_count": 13,
   "outputs": [
    {
     "data": {
      "text/plain": "['subjective']"
     },
     "execution_count": 13,
     "metadata": {},
     "output_type": "execute_result"
    }
   ],
   "source": [
    "model.predict(' Client appeared disheveled, which is unusual for him, and a marked change since last session. Client sat in a hunched position upon the beginning of the session, and appeared tired, with slowed movements and dysthymic mood. He was attentive and cooperative, and had congruent and appropriate affect.')"
   ],
   "metadata": {
    "collapsed": false,
    "ExecuteTime": {
     "start_time": "2023-05-07T15:59:36.403830Z",
     "end_time": "2023-05-07T15:59:36.673199Z"
    }
   }
  },
  {
   "cell_type": "code",
   "execution_count": null,
   "outputs": [],
   "source": [],
   "metadata": {
    "collapsed": false
   }
  },
  {
   "cell_type": "code",
   "execution_count": null,
   "outputs": [],
   "source": [],
   "metadata": {
    "collapsed": false
   }
  }
 ],
 "metadata": {
  "kernelspec": {
   "display_name": "Python 3",
   "language": "python",
   "name": "python3"
  },
  "language_info": {
   "codemirror_mode": {
    "name": "ipython",
    "version": 2
   },
   "file_extension": ".py",
   "mimetype": "text/x-python",
   "name": "python",
   "nbconvert_exporter": "python",
   "pygments_lexer": "ipython2",
   "version": "2.7.6"
  }
 },
 "nbformat": 4,
 "nbformat_minor": 0
}
